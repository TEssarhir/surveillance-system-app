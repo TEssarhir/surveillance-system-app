{
 "cells": [
  {
   "cell_type": "markdown",
   "metadata": {},
   "source": [
    "# Partie 4"
   ]
  },
  {
   "cell_type": "code",
   "execution_count": 166,
   "metadata": {},
   "outputs": [],
   "source": [
    "%reset -f"
   ]
  },
  {
   "cell_type": "code",
   "execution_count": 167,
   "metadata": {},
   "outputs": [],
   "source": [
    "import hashlib\n",
    "import time\n",
    "\n",
    "from utilitaires import *\n",
    "from bloc import *"
   ]
  },
  {
   "cell_type": "markdown",
   "metadata": {},
   "source": [
    "## Exercice 1-2-3-4"
   ]
  },
  {
   "cell_type": "code",
   "execution_count": 168,
   "metadata": {},
   "outputs": [
    {
     "name": "stdout",
     "output_type": "stream",
     "text": [
      "Hash du bloc : f8e6edd38b16dc44c4dac90a086a842d15914c61caf34f8d90973959d6fc4583\n",
      "Timestamp : 1710777146.5909178\n"
     ]
    }
   ],
   "source": [
    "previousHash = \"0\"\n",
    "data = \"Exemple de données\"\n",
    "bloc = Bloc(data, previousHash)\n",
    "print(f\"Hash du bloc : {bloc.hash}\")\n",
    "print(f\"Timestamp : {bloc.timeStamp}\")"
   ]
  },
  {
   "cell_type": "code",
   "execution_count": 169,
   "metadata": {},
   "outputs": [
    {
     "name": "stdout",
     "output_type": "stream",
     "text": [
      "Input : Exemple de données\n",
      "Hash SHA-256 : 4caaeec639035cef4c6bfd53ba794033091899adf178f6bcdfd0f6f8292d16bb\n"
     ]
    }
   ],
   "source": [
    "hashed_data = applySha256(data)\n",
    "print(f\"Input : {data}\")\n",
    "print(f\"Hash SHA-256 : {hashed_data}\")"
   ]
  },
  {
   "cell_type": "markdown",
   "metadata": {},
   "source": [
    "## Exercice 5"
   ]
  },
  {
   "cell_type": "code",
   "execution_count": 170,
   "metadata": {},
   "outputs": [
    {
     "name": "stdout",
     "output_type": "stream",
     "text": [
      "Data : Bonjour, je suis le premier bloc\n",
      "Hash : 29e605058680e08c1dbae5f4d47db3fa332de2b1264e98ad0a7b119bfcfae04d\n",
      "Data : Hello, je suis le deuxième bloc\n",
      "Hash : 2153eb4e0a696d459b4f5d6f200ec48e0d7f2816ad38651ce85d461bd9fd5184\n",
      "Data : Yo, je suis le troisième bloc\n",
      "Hash : 8c0e8291b502f6bb7c472c8ece3ad13bf6e7e6e129bbb0365221604aab6b7709\n"
     ]
    }
   ],
   "source": [
    "maChaine = []\n",
    "\n",
    "# Création des blocs\n",
    "previousHash = \"0\"\n",
    "data_list = [\"Bonjour, je suis le premier bloc\", \"Hello, je suis le deuxième bloc\", \"Yo, je suis le troisième bloc\"]\n",
    "\n",
    "for data in data_list:\n",
    "    bloc = Bloc(data, previousHash)\n",
    "    maChaine.append(bloc)\n",
    "    previousHash = bloc.hash\n",
    "\n",
    "# Affichage des valeurs de hash\n",
    "for bloc in maChaine:\n",
    "    print(f\"Data : {bloc.data}\")\n",
    "    print(f\"Hash : {bloc.hash}\")"
   ]
  },
  {
   "cell_type": "markdown",
   "metadata": {},
   "source": [
    "## Exercice 6"
   ]
  },
  {
   "cell_type": "code",
   "execution_count": 171,
   "metadata": {},
   "outputs": [
    {
     "name": "stdout",
     "output_type": "stream",
     "text": [
      "\n",
      "La chaîne est valide ?\n",
      "Réponse :  True\n"
     ]
    }
   ],
   "source": [
    "# Vérification de la validité de la chaîne\n",
    "print(\"\\nLa chaîne est valide ?\\nRéponse : \", isChaineValid(maChaine))"
   ]
  },
  {
   "cell_type": "markdown",
   "metadata": {},
   "source": [
    "## Exercice 7"
   ]
  },
  {
   "cell_type": "code",
   "execution_count": 172,
   "metadata": {},
   "outputs": [],
   "source": [
    "bloc.mineBlock(10)  # Essayons avec une difficulté de 2 pour commencer"
   ]
  },
  {
   "cell_type": "markdown",
   "metadata": {},
   "source": [
    "## Exercice 8"
   ]
  },
  {
   "cell_type": "code",
   "execution_count": null,
   "metadata": {},
   "outputs": [
    {
     "name": "stdout",
     "output_type": "stream",
     "text": [
      "Bloc miné avec succès. Hash: 09842eba90889bce230ea80dc1a18c8b2203ac947bf81501f64bb44ed6796531\n",
      "Temps de minage: 5.7220458984375e-05 secondes\n",
      "\n",
      "Bloc miné avec succès. Hash: 073ccbd0e5194f66e739d33d19fa545483bc29996f60afde40e1267659a956dc\n",
      "Temps de minage: 2.9802322387695312e-05 secondes\n",
      "\n",
      "Bloc miné avec succès. Hash: 0cc63c9e782c3c3a85615a90a688889a51ebd976421e4e9c955b597ccdece0e0\n",
      "Temps de minage: 2.193450927734375e-05 secondes\n",
      "\n"
     ]
    }
   ],
   "source": [
    "difficulty = 1 \n",
    "data_list = [\"Donnée 1\", \"Donnée 2\", \"Donnée 3\"]\n",
    "previousHash = \"0\"\n",
    "\n",
    "for data in data_list:\n",
    "    start_time = time.time()\n",
    "    bloc = Bloc(data, previousHash)\n",
    "    bloc.mineBlock(difficulty)\n",
    "    end_time = time.time()\n",
    "    mining_time = end_time - start_time\n",
    "    print(\"Temps de minage:\", mining_time, \"secondes\")\n",
    "    print()\n",
    "    previousHash = bloc.hash\n",
    "\n",
    "difficulty += 1"
   ]
  },
  {
   "cell_type": "markdown",
   "metadata": {},
   "source": [
    "## Exercice 9"
   ]
  },
  {
   "cell_type": "markdown",
   "metadata": {},
   "source": [
    "Exécuter le fichier `maitre.py` définie dans ce repértoire, et pour l'esclave éxecuter `../A1/esclave.py`"
   ]
  }
 ],
 "metadata": {
  "kernelspec": {
   "display_name": "Python 3",
   "language": "python",
   "name": "python3"
  },
  "language_info": {
   "codemirror_mode": {
    "name": "ipython",
    "version": 3
   },
   "file_extension": ".py",
   "mimetype": "text/x-python",
   "name": "python",
   "nbconvert_exporter": "python",
   "pygments_lexer": "ipython3",
   "version": "3.12.2"
  }
 },
 "nbformat": 4,
 "nbformat_minor": 2
}
